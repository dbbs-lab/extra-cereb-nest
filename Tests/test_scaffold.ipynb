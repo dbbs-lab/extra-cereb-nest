{
 "cells": [
  {
   "cell_type": "code",
   "execution_count": null,
   "metadata": {
    "collapsed": false
   },
   "outputs": [],
   "source": [
    "from collections import namedtuple\n",
    "import numpy as np\n",
    "import nest\n",
    "from scaffold.core import from_hdf5\n",
    "from scaffold.config import JSONConfig\n",
    "from scaffold.output import HDF5Formatter\n",
    "from population_view import PopView\n",
    "from world_populations import Planner, Cortex, SensoryIO, MotorIO, DirectDCN, InverseDCN"
   ]
  },
  {
   "cell_type": "code",
   "execution_count": null,
   "metadata": {
    "collapsed": true
   },
   "outputs": [],
   "source": [
    "CORES = 8\n",
    "\n",
    "nest.Install(\"extracerebmodule\")\n",
    "\n",
    "nest.set_verbosity('M_WARNING')\n",
    "nest.ResetKernel()\n",
    "nest.SetKernelStatus({'local_num_threads' : CORES,\n",
    "                      'total_num_virtual_procs' : CORES,\n",
    "                      'resolution' : 1.0,\n",
    "                      'overwrite_files' : True})"
   ]
  },
  {
   "cell_type": "code",
   "execution_count": null,
   "metadata": {
    "collapsed": true
   },
   "outputs": [],
   "source": [
    "trial_len = 300"
   ]
  },
  {
   "cell_type": "code",
   "execution_count": null,
   "metadata": {
    "collapsed": true
   },
   "outputs": [],
   "source": [
    "def create_brain(prism):\n",
    "    hdf5_file = 'mouse_cerebellum_200.hdf5'\n",
    "    # hdf5_file = 'scaffold_network_VOR.hdf5'\n",
    "    # json_file = 'scaffold_network_VOR_10.json'\n",
    "    \n",
    "    # reconfigured_obj = JSONConfig(json_file)\n",
    "    # HDF5Formatter.reconfigure(hdf5_file, reconfigured_obj)\n",
    "    \n",
    "    scaffold_model = from_hdf5(hdf5_file)\n",
    "    scaffold_model.configuration.verbosity = 3\n",
    "\n",
    "    # Get scaffold model populations\n",
    "    S_MF = scaffold_model.get_entities_by_type(\"mossy_fibers\")\n",
    "    S_IO = scaffold_model.get_cells_by_type(\"io_cell\")[:, 0]\n",
    "    S_DCN = scaffold_model.get_cells_by_type(\"dcn_cell\")[:, 0]\n",
    "\n",
    "    uz_pos = scaffold_model.labels[\"microzone-positive\"]\n",
    "    uz_neg = scaffold_model.labels[\"microzone-negative\"]\n",
    "\n",
    "    S_DCNp = np.intersect1d(S_DCN, uz_pos)\n",
    "    S_DCNn = np.intersect1d(S_DCN, uz_neg)\n",
    "    S_IOp = np.intersect1d(S_IO, uz_pos)\n",
    "    S_IOn = np.intersect1d(S_IO, uz_neg)\n",
    "    #\n",
    "\n",
    "    # Prepare adapters\n",
    "    adapter_forward = scaffold_model.create_adapter(\"FCN_2019\")\n",
    "    adapter_inverse = scaffold_model.create_adapter(\"FCN_2019\")\n",
    "\n",
    "    adapter_forward.enable_multi(\"forward\")\n",
    "    adapter_inverse.enable_multi(\"reverse\")\n",
    "\n",
    "    adapter_forward.prepare()\n",
    "    adapter_inverse.prepare()\n",
    "    #\n",
    "\n",
    "    # Get NEST populations\n",
    "    f_IOp = adapter_forward.get_nest_ids(S_IOp)\n",
    "    f_IOn = adapter_forward.get_nest_ids(S_IOn)\n",
    "\n",
    "    i_IOp = adapter_inverse.get_nest_ids(S_IOp)\n",
    "    i_IOn = adapter_inverse.get_nest_ids(S_IOn)\n",
    "\n",
    "    f_DCNp = adapter_forward.get_nest_ids(S_DCNp)\n",
    "    f_DCNn = adapter_forward.get_nest_ids(S_DCNn)\n",
    "\n",
    "    i_DCNp = adapter_forward.get_nest_ids(S_DCNp)\n",
    "    i_DCNn = adapter_forward.get_nest_ids(S_DCNn)\n",
    "\n",
    "    f_MF = adapter_forward.get_nest_ids(S_MF)\n",
    "    i_MF = adapter_inverse.get_nest_ids(S_MF)\n",
    "    #\n",
    "\n",
    "    # Define population views\n",
    "    MF_number = len(f_MF)\n",
    "    IO_number = len(f_IOp) + len(f_IOn)\n",
    "\n",
    "    planner_pv = Planner(MF_number, prism)\n",
    "    cortex_pv = Cortex(MF_number)\n",
    "\n",
    "    f_IO_pv = SensoryIO(f_IOp, f_IOn)",
    "    i_IO_pv = MotorIO(i_IOp, i_IOn)",
    "\n",
    "    f_DCN_pv = DirectDCN(f_DCNp, f_DCNn)\n",
    "    i_DCN_pv = InverseDCN(i_DCNp, i_DCNn)\n",
    "\n",
    "    f_MF_pv = PopView(f_MF)\n",
    "    i_MF_pv = PopView(i_MF)\n",
    "    #\n",
    "\n",
    "\n",
    "    planner_pv.connect(cortex_pv)\n",
    "\n",
    "    cortex_pv.connect(f_MF_pv)  # Efference copy\n",
    "    planner_pv.connect(i_MF_pv)  # Sensory input\n",
    "\n",
    "    conn_dict = {\"rule\": \"fixed_indegree\", \"indegree\": 1}\n",
    "    nest.Connect(f_DCNp, cortex_pv.pop, conn_dict, {'weight': 1.0})\n",
    "    nest.Connect(f_DCNn, cortex_pv.pop, conn_dict, {'weight': -1.0})\n",
    "\n",
    "    # TODO: altre connesisoni?\n",
    "    return cortex_pv"
   ]
  },
  {
   "cell_type": "code",
   "execution_count": null,
   "metadata": {
    "collapsed": false
   },
   "outputs": [],
   "source": [
    "prism = 25.0\n",
    "\n",
    "cortex = create_brain(prism)\n",
    "from time import time\n",
    "\n",
    "t0 = time()\n",
    "nest.Simulate(trial_len)\n",
    "t1 = time()\n",
    "\n",
    "print(t1-t0)"
   ]
  },
  {
   "cell_type": "code",
   "execution_count": null,
   "metadata": {
    "collapsed": false
   },
   "outputs": [],
   "source": [
    "cortex.plot_spikes()"
   ]
  },
  {
   "cell_type": "code",
   "execution_count": null,
   "metadata": {
    "collapsed": true
   },
   "outputs": [],
   "source": []
  }
 ],
 "metadata": {
  "kernelspec": {
   "display_name": "scaffold",
   "language": "python",
   "name": "scaffold"
  },
  "language_info": {
   "codemirror_mode": {
    "name": "ipython",
    "version": 3
   },
   "file_extension": ".py",
   "mimetype": "text/x-python",
   "name": "python",
   "nbconvert_exporter": "python",
   "pygments_lexer": "ipython3",
   "version": "3.6.8"
  }
 },
 "nbformat": 4,
 "nbformat_minor": 2
}
