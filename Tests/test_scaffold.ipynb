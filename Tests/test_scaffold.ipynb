{
 "cells": [
  {
   "cell_type": "code",
   "execution_count": null,
   "metadata": {
    "collapsed": false
   },
   "outputs": [],
   "source": [
    "from collections import namedtuple\n",
    "import numpy as np\n",
    "import matplotlib.pyplot as plt\n",
    "import nest\n",
    "from scaffold.core import from_hdf5\n",
    "from scaffold.config import JSONConfig\n",
    "from scaffold.output import HDF5Formatter\n",
    "from population_view import PopView\n",
    "import world\n",
    "from world_populations import Planner, Cortex, SensoryIO, MotorIO, DirectDCN, InverseDCN"
   ]
  },
  {
   "cell_type": "code",
   "execution_count": null,
   "metadata": {
    "collapsed": true
   },
   "outputs": [],
   "source": [
    "# Cerebellum = namedtuple(\"Cerebellum\", \"mf io dcn\")\n",
    "Cerebellum = namedtuple(\"Cerebellum\", \"mf gr pc io dcn\")\n",
    "Brain = namedtuple(\"Brain\", \"planner cortex forward inverse\")"
   ]
  },
  {
   "cell_type": "code",
   "execution_count": null,
   "metadata": {
    "collapsed": true
   },
   "outputs": [],
   "source": [
    "CORES = 8\n",
    "\n",
    "nest.Install(\"extracerebmodule\")\n",
    "\n",
    "nest.set_verbosity('M_WARNING')\n",
    "nest.ResetKernel()\n",
    "nest.SetKernelStatus({'local_num_threads' : CORES,\n",
    "                      'total_num_virtual_procs' : CORES,\n",
    "                      'resolution' : 1.0,\n",
    "                      'overwrite_files' : True})"
   ]
  },
  {
   "cell_type": "code",
   "execution_count": null,
   "metadata": {
    "collapsed": true
   },
   "outputs": [],
   "source": [
    "trial_len = 300"
   ]
  },
  {
   "cell_type": "code",
   "execution_count": null,
   "metadata": {
    "collapsed": true
   },
   "outputs": [],
   "source": [
    "def create_cortex(MF_number, prism):\n",
    "    planner_pv = Planner(MF_number, prism)\n",
    "    cortex_pv = Cortex(MF_number)\n",
    "    \n",
    "    planner_pv.connect(cortex_pv)\n",
    "    \n",
    "    return planner_pv, cortex_pv"
   ]
  },
  {
   "cell_type": "code",
   "execution_count": null,
   "metadata": {
    "collapsed": true
   },
   "outputs": [],
   "source": [
    "def create_brain(prism):\n",
    "    hdf5_file = 'mouse_cerebellum_200_8threads.hdf5'\n",
    "    # hdf5_file = 'scaffold_network_VOR.hdf5'\n",
    "    # json_file = 'scaffold_network_VOR_10.json'\n",
    "    \n",
    "    # reconfigured_obj = JSONConfig(json_file)\n",
    "    # HDF5Formatter.reconfigure(hdf5_file, reconfigured_obj)\n",
    "    \n",
    "    scaffold_model = from_hdf5(hdf5_file)\n",
    "    scaffold_model.configuration.verbosity = 3\n",
    "\n",
    "    # Get scaffold model populations\n",
    "    S_MF = scaffold_model.get_entities_by_type(\"mossy_fibers\")\n",
    "    S_GR = scaffold_model.get_cells_by_type(\"granule_cell\")[:, 0]\n",
    "    S_PC = scaffold_model.get_cells_by_type(\"purkinje_cell\")[:, 0]\n",
    "    S_IO = scaffold_model.get_cells_by_type(\"io_cell\")[:, 0]\n",
    "    S_DCN = scaffold_model.get_cells_by_type(\"dcn_cell\")[:, 0]\n",
    "\n",
    "    uz_pos = scaffold_model.labels[\"microzone-positive\"]\n",
    "    uz_neg = scaffold_model.labels[\"microzone-negative\"]\n",
    "\n",
    "    S_DCNp = np.intersect1d(S_DCN, uz_pos)\n",
    "    S_DCNn = np.intersect1d(S_DCN, uz_neg)\n",
    "    S_IOp = np.intersect1d(S_IO, uz_pos)\n",
    "    S_IOn = np.intersect1d(S_IO, uz_neg)\n",
    "    #\n",
    "\n",
    "    # Prepare adapters\n",
    "    adapter_forward = scaffold_model.create_adapter(\"FCN_2019\")\n",
    "    adapter_inverse = scaffold_model.create_adapter(\"FCN_2019\")\n",
    "\n",
    "    adapter_forward.enable_multi(\"forward\")\n",
    "    adapter_inverse.enable_multi(\"reverse\")\n",
    "\n",
    "    adapter_forward.prepare()\n",
    "    adapter_inverse.prepare()\n",
    "    #\n",
    "\n",
    "    # Get NEST populations\n",
    "    f_IOp = adapter_forward.get_nest_ids(S_IOp)\n",
    "    f_IOn = adapter_forward.get_nest_ids(S_IOn)\n",
    "\n",
    "    i_IOp = adapter_inverse.get_nest_ids(S_IOp)\n",
    "    i_IOn = adapter_inverse.get_nest_ids(S_IOn)\n",
    "\n",
    "    f_DCNp = adapter_forward.get_nest_ids(S_DCNp)\n",
    "    f_DCNn = adapter_forward.get_nest_ids(S_DCNn)\n",
    "\n",
    "    i_DCNp = adapter_forward.get_nest_ids(S_DCNp)\n",
    "    i_DCNn = adapter_forward.get_nest_ids(S_DCNn)\n",
    "\n",
    "    f_MF = adapter_forward.get_nest_ids(S_MF)\n",
    "    i_MF = adapter_inverse.get_nest_ids(S_MF)\n",
    "\n",
    "    f_GR = adapter_forward.get_nest_ids(S_GR)\n",
    "    i_GR = adapter_inverse.get_nest_ids(S_GR)\n",
    "\n",
    "    f_PC = adapter_forward.get_nest_ids(S_PC)\n",
    "    i_PC = adapter_inverse.get_nest_ids(S_PC)\n",
    "    #\n",
    "\n",
    "    # Define population views\n",
    "    MF_number = len(f_MF)\n",
    "    # print(\"MF_number:\", MF_number)  # 89\n",
    "\n",
    "    planner_pv, cortex_pv = create_cortex(MF_number, prism)\n",
    "\n",
    "    f_IO_pv = SensoryIO(f_IOp, f_IOn)\n",
    "    i_IO_pv = MotorIO(i_IOp, i_IOn)\n",
    "\n",
    "    f_DCN_pv = DirectDCN(f_DCNp, f_DCNn)\n",
    "    i_DCN_pv = InverseDCN(i_DCNp, i_DCNn)\n",
    "\n",
    "    f_MF_pv = PopView(f_MF)\n",
    "    i_MF_pv = PopView(i_MF)\n",
    "\n",
    "    f_GR_pv = PopView(f_GR)\n",
    "    i_GR_pv = PopView(i_GR)\n",
    "\n",
    "    f_PC_pv = PopView(f_PC)\n",
    "    i_PC_pv = PopView(i_PC)\n",
    "    #\n",
    "\n",
    "    cortex_pv.connect(f_MF_pv)   # Efference copy\n",
    "    planner_pv.connect(i_MF_pv)  # Sensory input\n",
    "\n",
    "    conn_dict = {\"rule\": \"fixed_indegree\", \"indegree\": 1}\n",
    "    nest.Connect(f_DCNp, cortex_pv.pop, conn_dict, {'weight': 1.0})\n",
    "    nest.Connect(f_DCNn, cortex_pv.pop, conn_dict, {'weight': -1.0})\n",
    "    \n",
    "    forward = Cerebellum(f_MF_pv, f_GR_pv, f_PC_pv, f_IO_pv, f_DCN_pv)\n",
    "    inverse = Cerebellum(i_MF_pv, i_GR_pv, i_PC_pv, i_IO_pv, i_DCN_pv)\n",
    "    \n",
    "    return Brain(planner_pv, cortex_pv, forward, inverse)"
   ]
  },
  {
   "cell_type": "code",
   "execution_count": null,
   "metadata": {
    "collapsed": false
   },
   "outputs": [],
   "source": [
    "brain = create_brain(0.0)"
   ]
  },
  {
   "cell_type": "code",
   "execution_count": null,
   "metadata": {
    "collapsed": true
   },
   "outputs": [],
   "source": [
    "planner = brain.planner\n",
    "cortex = brain.cortex\n",
    "forward = brain.forward\n",
    "inverse = brain.inverse"
   ]
  },
  {
   "cell_type": "code",
   "execution_count": null,
   "metadata": {
    "collapsed": false
   },
   "outputs": [],
   "source": [
    "# Get reference x\n",
    "xs = []\n",
    "\n",
    "print(\"Comupting x_0\")\n",
    "for i in range(5):\n",
    "    nest.Simulate(trial_len)\n",
    "    x = cortex.integrate(trial_i=i)\n",
    "    if i >= 1:\n",
    "         xs.append(x)\n",
    "    # xs.append(x)\n",
    "\n",
    "x_0 = np.mean(xs)\n",
    "\n",
    "\n",
    "print(\"Comupting x_10\")\n",
    "xs = []\n",
    "\n",
    "for i in range(5):\n",
    "    nest.Simulate(trial_len)\n",
    "    x = cortex.integrate(trial_i=i+5)\n",
    "    if i >= 1:\n",
    "         xs.append(x)\n",
    "    # xs.append(x)\n",
    "\n",
    "trial_offset = 10\n",
    "\n",
    "x_10 = np.mean(xs)\n",
    "\n",
    "get_error = world.get_error_function(x_0, x_10)"
   ]
  },
  {
   "cell_type": "code",
   "execution_count": null,
   "metadata": {
    "collapsed": false
   },
   "outputs": [],
   "source": [
    "# Get open loop error\n",
    "xs = []\n",
    "\n",
    "for i in range(5):\n",
    "    nest.Simulate(trial_len)\n",
    "\n",
    "    x = cortex.integrate(trial_i=i+trial_offset)\n",
    "    if i >= 1:\n",
    "        xs.append(x)\n",
    "\n",
    "trial_offset += 5\n",
    "\n",
    "open_loop_error = get_error(np.mean(xs))\n",
    "print(\"Open loop error:\", open_loop_error)"
   ]
  },
  {
   "cell_type": "code",
   "execution_count": null,
   "metadata": {
    "collapsed": true
   },
   "outputs": [],
   "source": [
    "def get_weights(pop1, pop2):\n",
    "    conns = nest.GetConnections(pop1[::50], pop2[::50])\n",
    "    weights = nest.GetStatus(conns, \"weight\")\n",
    "    return weights"
   ]
  },
  {
   "cell_type": "code",
   "execution_count": null,
   "metadata": {
    "collapsed": true
   },
   "outputs": [],
   "source": [
    "sensory_error = open_loop_error\n",
    "error_history = []\n",
    "\n",
    "weights_for = []\n",
    "weights_inv = []"
   ]
  },
  {
   "cell_type": "code",
   "execution_count": null,
   "metadata": {
    "collapsed": false
   },
   "outputs": [],
   "source": [
    "n_trials = 5\n",
    "\n",
    "for i in range(n_trials):\n",
    "    forward.io.set_rate(sensory_error)\n",
    "    inverse.io.set_rate(sensory_error, trial_i=i+trial_offset)\n",
    "\n",
    "    print(\"Simulating\")\n",
    "    nest.Simulate(trial_len)\n",
    "    print()\n",
    "    print(\"Trial \", i+1)\n",
    "    print()\n",
    "\n",
    "    x_cortex = cortex.integrate(trial_i=i+trial_offset)\n",
    "\n",
    "    x_dcn = inverse.dcn.integrate(trial_i=i+trial_offset)\n",
    "    x_sum = x_cortex + x_dcn\n",
    "\n",
    "    sensory_error = get_error(x_sum)\n",
    "    error_history.append(sensory_error)\n",
    "    print(\"Closed loop error %d:\" % i, sensory_error)\n",
    "\n",
    "    print()\n",
    "    print(\"Forward IO: %.1f\" % forward.io.get_per_trial_rate())\n",
    "    print(\"Forward MF: %.1f\" % forward.mf.get_per_trial_rate())\n",
    "    print(\"Forward GR: %.1f\" % forward.gr.get_per_trial_rate())\n",
    "    print(\"Forward PC: %.1f\" % forward.pc.get_per_trial_rate())\n",
    "    print(\"Forward DCN: %.1f\" % forward.dcn.get_per_trial_rate())\n",
    "\n",
    "    weights = get_weights(forward.gr.pop, forward.pc.pop)\n",
    "    weights_for.append(weights)\n",
    "    print(\"Forward PFPC weights:\", min(weights), \"to\", max(weights))\n",
    "\n",
    "    print()\n",
    "    print(\"Inverse IO: %.1f\" % inverse.io.get_per_trial_rate())\n",
    "    print(\"Inverse MF: %.1f\" % inverse.mf.get_per_trial_rate())\n",
    "    print(\"Inverse GR: %.1f\" % inverse.gr.get_per_trial_rate())\n",
    "    print(\"Inverse PC: %.1f\" % inverse.pc.get_per_trial_rate())\n",
    "    print(\"Inverse DCN: %.1f\" % inverse.dcn.get_per_trial_rate())\n",
    "\n",
    "    weights = get_weights(inverse.gr.pop, inverse.pc.pop)\n",
    "    weights_inv.append(weights)\n",
    "    print(\"Inverse PFPC weights:\", min(weights), \"to\", max(weights))\n",
    "\n",
    "trial_offset += n_trials"
   ]
  },
  {
   "cell_type": "code",
   "execution_count": null,
   "metadata": {
    "collapsed": false
   },
   "outputs": [],
   "source": [
    "fig, axs = plt.subplots(1, 2, figsize=(12,6))\n",
    "\n",
    "\n",
    "w_max = np.max([np.max(weights_for), np.max(weights_inv)])\n",
    "\n",
    "axs[0].set_title(\"Forward PC-DCN weights\")\n",
    "axs[0].matshow(np.transpose(weights_for), aspect='auto', vmin=0.0, vmax=30)\n",
    "\n",
    "axs[1].set_title(\"Inverse PC-DCN weights\")\n",
    "axs[1].matshow(np.transpose(weights_inv), aspect='auto', vmin=0.0, vmax=30)\n",
    "\n",
    "plt.tight_layout()\n",
    "plt.show()"
   ]
  },
  {
   "cell_type": "code",
   "execution_count": null,
   "metadata": {
    "collapsed": false
   },
   "outputs": [],
   "source": [
    "fig, axs = plt.subplots(5, figsize=(12,8))\n",
    "\n",
    "forward.mf.plot_per_trial_rates('MF', axs[0])\n",
    "forward.io.plot_per_trial_rates('IO', axs[1])\n",
    "forward.pc.plot_per_trial_rates('PC', axs[2])\n",
    "forward.dcn.plot_per_trial_rates('DCN', axs[3])\n",
    "\n",
    "inverse.mf.plot_per_trial_rates('MF', axs[0])\n",
    "inverse.io.plot_per_trial_rates('IO', axs[1])\n",
    "inverse.pc.plot_per_trial_rates('PC', axs[2])\n",
    "inverse.dcn.plot_per_trial_rates('DCN', axs[3])\n",
    "\n",
    "axs[4].set_ylabel('Error')\n",
    "axs[4].plot(error_history)\n",
    "plt.show()"
   ]
  },
  {
   "cell_type": "code",
   "execution_count": null,
   "metadata": {
    "collapsed": false
   },
   "outputs": [],
   "source": [
    "fig, axs = plt.subplots(5, figsize=(12,8))\n",
    "fig.suptitle(\"Forward\")\n",
    "\n",
    "forward.mf.plot_spikes('f MF', axs[0])\n",
    "forward.io.plot_spikes('f IO', axs[1])\n",
    "forward.pc.plot_spikes('f PC', axs[2])\n",
    "forward.dcn.plot_spikes('f DCN', axs[3])\n",
    "\n",
    "axs[4].set_ylabel('Error')\n",
    "axs[4].plot(error_history)\n",
    "plt.show()"
   ]
  },
  {
   "cell_type": "code",
   "execution_count": null,
   "metadata": {
    "collapsed": false
   },
   "outputs": [],
   "source": [
    "fig, axs = plt.subplots(5, figsize=(12, 8))\n",
    "fig.suptitle(\"Inverse\")\n",
    "\n",
    "inverse.mf.plot_spikes('i MF', axs[0])\n",
    "inverse.io.plot_spikes('i IO', axs[1])\n",
    "inverse.pc.plot_spikes('i PC', axs[2])\n",
    "inverse.dcn.plot_spikes('i DCN', axs[3])\n",
    "\n",
    "axs[4].set_ylabel('Error')\n",
    "axs[4].plot(error_history)\n",
    "plt.show()"
   ]
  },
  {
   "cell_type": "code",
   "execution_count": null,
   "metadata": {
    "collapsed": true
   },
   "outputs": [],
   "source": []
  }
 ],
 "metadata": {
  "kernelspec": {
   "display_name": "scaffold",
   "language": "python",
   "name": "scaffold"
  },
  "language_info": {
   "codemirror_mode": {
    "name": "ipython",
    "version": 3
   },
   "file_extension": ".py",
   "mimetype": "text/x-python",
   "name": "python",
   "nbconvert_exporter": "python",
   "pygments_lexer": "ipython3",
   "version": "3.6.8"
  }
 },
 "nbformat": 4,
 "nbformat_minor": 2
}
