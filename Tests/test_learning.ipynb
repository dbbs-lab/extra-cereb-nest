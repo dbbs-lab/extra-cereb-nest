{
 "cells": [
  {
   "cell_type": "code",
   "execution_count": 1,
   "metadata": {},
   "outputs": [],
   "source": [
    "from time import time\n",
    "from datetime import datetime\n",
    "from contextlib import contextmanager\n",
    "from collections import namedtuple\n",
    "import numpy as np\n",
    "import matplotlib.pyplot as plt\n",
    "import nest\n",
    "import world\n",
    "from world_populations import Planner, Cortex\n",
    "\n",
    "from cerebellum import MF_number, define_models, \\\n",
    "        create_forward_cerebellum, create_inverse_cerebellum\n",
    "import trajectories"
   ]
  },
  {
   "cell_type": "code",
   "execution_count": 2,
   "metadata": {},
   "outputs": [],
   "source": [
    "Brain = namedtuple(\"Brain\", \"planner cortex forward inverse\")\n",
    "\n",
    "nest.Install(\"cerebmodule\")\n",
    "nest.Install(\"extracerebmodule\")\n",
    "\n",
    "trial_len = 300"
   ]
  },
  {
   "cell_type": "code",
   "execution_count": 3,
   "metadata": {},
   "outputs": [],
   "source": [
    "def create_brain(prism):\n",
    "    trajectories.save_file(prism, trial_len)\n",
    "\n",
    "    define_models()\n",
    "    cereb_inv = create_inverse_cerebellum()\n",
    "    cereb_for = create_forward_cerebellum()\n",
    "    # cereb_foo = create_forward_cerebellum()\n",
    "\n",
    "    planner = Planner(MF_number, prism)\n",
    "    cortex = Cortex(MF_number)\n",
    "\n",
    "    planner.connect(cortex)\n",
    "\n",
    "    # Forward model:\n",
    "    # - motor input from the cortex (efference copy)\n",
    "    # - sensory output to the cortex\n",
    "    # - sensory error signal\n",
    "    cortex.connect(cereb_for.mf)  # Efference copy\n",
    "\n",
    "    fDCN = cereb_for.dcn\n",
    "    conn_dict = {\"rule\": \"fixed_indegree\", \"indegree\": 1}\n",
    "    nest.Connect(fDCN.plus.pop, cortex.pop, conn_dict, {'weight': 1.0})\n",
    "    nest.Connect(fDCN.minus.pop, cortex.pop, conn_dict, {'weight': -1.0})\n",
    "\n",
    "    # Inverse model;\n",
    "    # - sensory input from planner\n",
    "    # - motor output to world\n",
    "    # - motor error signal\n",
    "    planner.connect(cereb_inv.mf)  # Sensory input\n",
    "\n",
    "    return cortex, cereb_for, cereb_inv"
   ]
  },
  {
   "cell_type": "code",
   "execution_count": 4,
   "metadata": {},
   "outputs": [],
   "source": [
    "FORWARD = True\n",
    "INVERSE = True\n",
    "\n",
    "prism = 20.0\n",
    "n_trials = 4"
   ]
  },
  {
   "cell_type": "code",
   "execution_count": 5,
   "metadata": {},
   "outputs": [],
   "source": [
    "# Get reference x\n",
    "nest.ResetKernel()\n",
    "cortex, _, _ = create_brain(0.0)\n",
    "xs = []\n",
    "\n",
    "for i in range(10):\n",
    "    nest.Simulate(trial_len)\n",
    "\n",
    "    x = cortex.integrate(trial_i=i)\n",
    "    if i >= 5:\n",
    "        xs.append(x)\n",
    "\n",
    "ref_x = np.mean(xs)"
   ]
  },
  {
   "cell_type": "code",
   "execution_count": 6,
   "metadata": {},
   "outputs": [
    {
     "name": "stdout",
     "output_type": "stream",
     "text": [
      "Open loop error: 19.691232604939366\n"
     ]
    }
   ],
   "source": [
    "# Get open loop error\n",
    "nest.ResetKernel()\n",
    "cortex, _, _ = create_brain(prism)\n",
    "xs = []\n",
    "\n",
    "for i in range(10):\n",
    "    nest.Simulate(trial_len)\n",
    "\n",
    "    x = cortex.integrate(trial_i=i)\n",
    "    if i >= 5:\n",
    "        xs.append(x)\n",
    "\n",
    "mean = np.mean(xs)\n",
    "open_loop_error, std_deg = world.get_error(ref_x, mean)\n",
    "\n",
    "print(\"Open loop error:\", open_loop_error)"
   ]
  },
  {
   "cell_type": "code",
   "execution_count": null,
   "metadata": {},
   "outputs": [],
   "source": []
  },
  {
   "cell_type": "code",
   "execution_count": 7,
   "metadata": {},
   "outputs": [],
   "source": [
    "def get_weights(pop1, pop2):\n",
    "    conns = nest.GetConnections(pop1[::50], pop2[::50])\n",
    "    weights = nest.GetStatus(conns, \"weight\")\n",
    "    return weights"
   ]
  },
  {
   "cell_type": "code",
   "execution_count": 8,
   "metadata": {},
   "outputs": [],
   "source": [
    "error_history = []\n",
    "\n",
    "weights_for = []\n",
    "weights_inv = []"
   ]
  },
  {
   "cell_type": "code",
   "execution_count": 9,
   "metadata": {},
   "outputs": [],
   "source": [
    "nest.ResetKernel()\n",
    "cortex, cereb_for, cereb_inv = create_brain(prism)\n",
    "sensory_error = open_loop_error"
   ]
  },
  {
   "cell_type": "code",
   "execution_count": 10,
   "metadata": {},
   "outputs": [
    {
     "name": "stdout",
     "output_type": "stream",
     "text": [
      "Simulating\n",
      "\n",
      "Trial  1\n",
      "\n",
      "Contributions from inverse DCN: 0.0\n",
      "Closed loop error 0: 16.232241611196883\n",
      "\n",
      "Forward IO: 9.0\n",
      "Forward MF: 42.8\n",
      "Forward GR: 8.3\n",
      "Forward PC: 172.4\n",
      "Forward DCN: 0.0\n",
      "Forward PFPC weights: 12.134938492615113 to 17.999999999999993\n",
      "\n",
      "Inverse IO: 11.2\n",
      "Inverse MF: 44.9\n",
      "Inverse GR: 3.6\n",
      "Inverse PC: 88.0\n",
      "Inverse DCN: 0.0\n",
      "Inverse PFPC weights: 0.8080803443897446 to 16.4\n",
      "Simulating\n",
      "\n",
      "Trial  2\n",
      "\n",
      "Contributions from inverse DCN: -0.0005165289256198347\n",
      "Closed loop error 1: 23.07265918857525\n",
      "\n",
      "Forward IO: 9.0\n",
      "Forward MF: 46.2\n",
      "Forward GR: 9.8\n",
      "Forward PC: 194.6\n",
      "Forward DCN: 0.0\n",
      "Forward PFPC weights: 14.934938492615103 to 20.799999999999983\n",
      "\n",
      "Inverse IO: 11.5\n",
      "Inverse MF: 45.0\n",
      "Inverse GR: 3.8\n",
      "Inverse PC: 80.0\n",
      "Inverse DCN: 0.1\n",
      "Inverse PFPC weights: 0.0 to 16.799999999999997\n",
      "Simulating\n",
      "\n",
      "Trial  3\n",
      "\n",
      "Contributions from inverse DCN: -0.0005165289256198347\n",
      "Closed loop error 2: 20.61923728610611\n",
      "\n",
      "Forward IO: 14.5\n",
      "Forward MF: 45.1\n",
      "Forward GR: 9.5\n",
      "Forward PC: 201.2\n",
      "Forward DCN: 0.0\n",
      "Forward PFPC weights: 16.0 to 23.799999999999972\n",
      "\n",
      "Inverse IO: 15.8\n",
      "Inverse MF: 45.1\n",
      "Inverse GR: 3.7\n",
      "Inverse PC: 74.9\n",
      "Inverse DCN: 0.1\n",
      "Inverse PFPC weights: 0.0 to 17.199999999999996\n",
      "Simulating\n",
      "\n",
      "Trial  4\n",
      "\n",
      "Contributions from inverse DCN: -0.28357438016528924\n",
      "Closed loop error 3: 23.641381282635876\n",
      "\n",
      "Forward IO: 9.0\n",
      "Forward MF: 46.4\n",
      "Forward GR: 10.0\n",
      "Forward PC: 197.7\n",
      "Forward DCN: 0.0\n",
      "Forward PFPC weights: 8.009768910829026 to 26.199999999999964\n",
      "\n",
      "Inverse IO: 10.8\n",
      "Inverse MF: 45.1\n",
      "Inverse GR: 3.7\n",
      "Inverse PC: 63.3\n",
      "Inverse DCN: 2.5\n",
      "Inverse PFPC weights: 0.0 to 17.599999999999994\n"
     ]
    }
   ],
   "source": [
    "for i in range(n_trials):\n",
    "    if FORWARD:\n",
    "        cereb_for.io.set_rate(sensory_error)\n",
    "    if INVERSE:\n",
    "        cereb_inv.io.set_rate(sensory_error, trial_i=i)\n",
    "\n",
    "    print(\"Simulating\")\n",
    "    nest.Simulate(trial_len)\n",
    "    print()\n",
    "    print(\"Trial \", i+1)\n",
    "    print()\n",
    "\n",
    "    x_cortex = cortex.integrate(trial_i=i)\n",
    "\n",
    "    if INVERSE:\n",
    "        x_dcn = cereb_inv.dcn.integrate(trial_i=i)\n",
    "\n",
    "        print(\"Contributions from inverse DCN:\", x_dcn)\n",
    "        x_sum = x_cortex + x_dcn\n",
    "    else:\n",
    "        x_sum = x_cortex\n",
    "\n",
    "    sensory_error, std_deg = world.get_error(ref_x, x_sum)\n",
    "    error_history.append(sensory_error)\n",
    "    print(\"Closed loop error %d:\" % i, sensory_error)\n",
    "\n",
    "    if FORWARD:\n",
    "        print()\n",
    "        print(\"Forward IO: %.1f\" % cereb_for.io.get_per_trial_rate())\n",
    "        print(\"Forward MF: %.1f\" % cereb_for.mf.get_per_trial_rate())\n",
    "        print(\"Forward GR: %.1f\" % cereb_for.gr.get_per_trial_rate())\n",
    "        print(\"Forward PC: %.1f\" % cereb_for.pc.get_per_trial_rate())\n",
    "        print(\"Forward DCN: %.1f\" % cereb_for.dcn.get_per_trial_rate())\n",
    "\n",
    "        weights = get_weights(cereb_for.gr.pop, cereb_for.pc.pop)\n",
    "        weights_for.append(weights)\n",
    "        print(\"Forward PFPC weights:\", min(weights), \"to\", max(weights))\n",
    "\n",
    "    if INVERSE:\n",
    "        print()\n",
    "        print(\"Inverse IO: %.1f\" % cereb_inv.io.get_per_trial_rate())\n",
    "        print(\"Inverse MF: %.1f\" % cereb_inv.mf.get_per_trial_rate())\n",
    "        print(\"Inverse GR: %.1f\" % cereb_inv.gr.get_per_trial_rate())\n",
    "        print(\"Inverse PC: %.1f\" % cereb_inv.pc.get_per_trial_rate())\n",
    "        print(\"Inverse DCN: %.1f\" % cereb_inv.dcn.get_per_trial_rate())\n",
    "\n",
    "        weights = get_weights(cereb_inv.gr.pop, cereb_inv.pc.pop)\n",
    "        weights_inv.append(weights)\n",
    "        print(\"Inverse PFPC weights:\", min(weights), \"to\", max(weights))"
   ]
  },
  {
   "cell_type": "code",
   "execution_count": 11,
   "metadata": {},
   "outputs": [
    {
     "data": {
      "image/png": "[encoded data removed]",
      "text/plain": [
       "<Figure size 864x432 with 2 Axes>"
      ]
     },
     "metadata": {
      "needs_background": "light"
     },
     "output_type": "display_data"
    }
   ],
   "source": [
    "fig, axs = plt.subplots(1, 2, figsize=(12,6))\n",
    "\n",
    "w_max = np.max([np.max(weights_for), np.max(weights_inv)])\n",
    "\n",
    "if FORWARD:\n",
    "    axs[0].set_title(\"Forward PC-DCN weights\")\n",
    "    axs[0].matshow(np.transpose(weights_for), aspect='auto', vmin=0.0, vmax=30)\n",
    "\n",
    "if INVERSE:\n",
    "    axs[1].set_title(\"Inverse PC-DCN weights\")\n",
    "    axs[1].matshow(np.transpose(weights_inv), aspect='auto', vmin=0.0, vmax=30)\n",
    "\n",
    "plt.tight_layout()\n",
    "plt.show()\n",
    "\n",
    "fig.savefig(\"weights_40.pdf\", bbox_inches='tight')\n",
    "fig.savefig(\"weights_40.png\", bbox_inches='tight')"
   ]
  },
  {
   "cell_type": "code",
   "execution_count": null,
   "metadata": {},
   "outputs": [],
   "source": []
  },
  {
   "cell_type": "code",
   "execution_count": 12,
   "metadata": {},
   "outputs": [
    {
     "data": {
      "image/png": "[encoded data removed]",
      "text/plain": [
       "<Figure size 864x576 with 5 Axes>"
      ]
     },
     "metadata": {
      "needs_background": "light"
     },
     "output_type": "display_data"
    }
   ],
   "source": [
    "fig, axs = plt.subplots(5, figsize=(12,8))\n",
    "\n",
    "if FORWARD:\n",
    "    cereb_for.mf.plot_per_trial_rates('MF', axs[0])\n",
    "    cereb_for.io.plot_per_trial_rates('IO', axs[1])\n",
    "    cereb_for.pc.plot_per_trial_rates('PC', axs[2])\n",
    "    cereb_for.dcn.plot_per_trial_rates('DCN', axs[3])\n",
    "\n",
    "if INVERSE:\n",
    "    cereb_inv.mf.plot_per_trial_rates('MF', axs[0])\n",
    "    cereb_inv.io.plot_per_trial_rates('IO', axs[1])\n",
    "    cereb_inv.pc.plot_per_trial_rates('PC', axs[2])\n",
    "    cereb_inv.dcn.plot_per_trial_rates('DCN', axs[3])\n",
    "\n",
    "axs[4].set_ylabel('Error')\n",
    "axs[4].plot(error_history)\n",
    "plt.show()\n",
    "\n",
    "fig.savefig(\"rates_40.pdf\", bbox_inches='tight')\n",
    "fig.savefig(\"rates_40.png\", bbox_inches='tight')"
   ]
  },
  {
   "cell_type": "code",
   "execution_count": null,
   "metadata": {},
   "outputs": [],
   "source": [
    "if FORWARD:\n",
    "    fig, axs = plt.subplots(5, figsize=(12,8))\n",
    "    fig.suptitle(\"Forward\")\n",
    "\n",
    "    cereb_for.mf.plot_spikes('f MF', axs[0])\n",
    "    cereb_for.io.plot_spikes('f IO', axs[1])\n",
    "    cereb_for.pc.plot_spikes('f PC', axs[2])\n",
    "    cereb_for.dcn.plot_spikes('f DCN', axs[3])\n",
    "\n",
    "    axs[4].set_ylabel('Error')\n",
    "    axs[4].plot(error_history)\n",
    "    plt.show()\n",
    "    \n",
    "    fig.savefig(\"forward_spikes_40.pdf\", bbox_inches='tight')\n",
    "    fig.savefig(\"forward_spikes_40.png\", bbox_inches='tight')"
   ]
  },
  {
   "cell_type": "code",
   "execution_count": null,
   "metadata": {},
   "outputs": [],
   "source": [
    "if INVERSE:\n",
    "    fig, axs = plt.subplots(5, figsize=(12, 8))\n",
    "    fig.suptitle(\"Inverse\")\n",
    "\n",
    "    cereb_inv.mf.plot_spikes('i MF', axs[0])\n",
    "    cereb_inv.io.plot_spikes('i IO', axs[1])\n",
    "    cereb_inv.pc.plot_spikes('i PC', axs[2])\n",
    "    cereb_inv.dcn.plot_spikes('i DCN', axs[3])\n",
    "\n",
    "    axs[4].set_ylabel('Error')\n",
    "    axs[4].plot(error_history)\n",
    "    plt.show()\n",
    "    \n",
    "    fig.savefig(\"inverse_spikes_40.pdf\", bbox_inches='tight')\n",
    "    fig.savefig(\"inverse_spikes_40.png\", bbox_inches='tight')"
   ]
  },
  {
   "cell_type": "code",
   "execution_count": null,
   "metadata": {},
   "outputs": [],
   "source": []
  },
  {
   "cell_type": "code",
   "execution_count": null,
   "metadata": {},
   "outputs": [],
   "source": []
  }
 ],
 "metadata": {
  "kernelspec": {
   "display_name": "Python 3",
   "language": "python",
   "name": "python3"
  },
  "language_info": {
   "codemirror_mode": {
    "name": "ipython",
    "version": 3
   },
   "file_extension": ".py",
   "mimetype": "text/x-python",
   "name": "python",
   "nbconvert_exporter": "python",
   "pygments_lexer": "ipython3",
   "version": "3.6.9"
  }
 },
 "nbformat": 4,
 "nbformat_minor": 2
}
